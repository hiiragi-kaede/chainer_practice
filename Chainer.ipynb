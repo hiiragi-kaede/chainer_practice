{
  "nbformat": 4,
  "nbformat_minor": 0,
  "metadata": {
    "colab": {
      "name": "Chainer",
      "provenance": [],
      "collapsed_sections": [],
      "toc_visible": true,
      "authorship_tag": "ABX9TyNRsJ5fzSbA77oFGBWKhRTX",
      "include_colab_link": true
    },
    "kernelspec": {
      "name": "python3",
      "display_name": "Python 3"
    },
    "accelerator": "GPU"
  },
  "cells": [
    {
      "cell_type": "markdown",
      "metadata": {
        "id": "view-in-github",
        "colab_type": "text"
      },
      "source": [
        "<a href=\"https://colab.research.google.com/github/hiiragi-kaede/chainer_practice/blob/master/Chainer.ipynb\" target=\"_parent\"><img src=\"https://colab.research.google.com/assets/colab-badge.svg\" alt=\"Open In Colab\"/></a>"
      ]
    },
    {
      "cell_type": "code",
      "metadata": {
        "id": "uWvi7sZq99fj",
        "colab_type": "code",
        "outputId": "a48fb8f9-49b7-4b36-fb9c-3a58fb3ed944",
        "colab": {
          "base_uri": "https://localhost:8080/",
          "height": 85
        }
      },
      "source": [
        "def f(a):\n",
        "  a=[6,7,8]\n",
        "  print(id(a))\n",
        "\n",
        "def g(a):\n",
        "  a.append(1)\n",
        "\n",
        "def func():\n",
        "  a0=[1,2,3]\n",
        "  print(id(a0))\n",
        "  f(a0)\n",
        "  \n",
        "  print(a0)\n",
        "\n",
        "  a1=[1,2,3]\n",
        "  g(a1)\n",
        "  print(a1)\n",
        "\n",
        "func()"
      ],
      "execution_count": 0,
      "outputs": [
        {
          "output_type": "stream",
          "text": [
            "139656822769288\n",
            "139656822786632\n",
            "[1, 2, 3]\n",
            "[1, 2, 3, 1]\n"
          ],
          "name": "stdout"
        }
      ]
    },
    {
      "cell_type": "code",
      "metadata": {
        "id": "F1nbbLFh5r4l",
        "colab_type": "code",
        "outputId": "28474456-8a0f-4360-ae97-73b923d44395",
        "colab": {
          "base_uri": "https://localhost:8080/",
          "height": 102
        }
      },
      "source": [
        "class DataManager:\n",
        "  def __init__(self,x,y,z):\n",
        "    self.x=x\n",
        "    self.y=y\n",
        "    self.z=z\n",
        "  \n",
        "  def add_x(self,delta):\n",
        "    self.x+=delta\n",
        "  \n",
        "  def add_y(self,delta):\n",
        "    self.y+=delta\n",
        "  \n",
        "  def add_z(self,delta):\n",
        "    self.z+=delta\n",
        "  \n",
        "  def sum(self):\n",
        "    return self.x+self.y+self.z\n",
        "\n",
        "data=DataManager(2,3,5)\n",
        "print(data.sum())\n",
        "data.add_x(4)\n",
        "print(data.sum())\n",
        "data.add_y(0)\n",
        "print(data.sum())\n",
        "data.add_z(-9)\n",
        "print(data.sum())\n",
        "print('{},{},{}'.format(data.x,data.y,data.z))"
      ],
      "execution_count": 0,
      "outputs": [
        {
          "output_type": "stream",
          "text": [
            "10\n",
            "14\n",
            "14\n",
            "5\n",
            "6,3,-4\n"
          ],
          "name": "stdout"
        }
      ]
    },
    {
      "cell_type": "code",
      "metadata": {
        "id": "4HvuJf8DA-91",
        "colab_type": "code",
        "outputId": "cdc5b683-8d22-4d57-8d9c-6298528cae8a",
        "colab": {
          "base_uri": "https://localhost:8080/",
          "height": 34
        }
      },
      "source": [
        "num=[x for x in range(2,101)]\n",
        "isprime=[True for x in range(2,101)]\n",
        "for i in range(2,11):\n",
        "  id=i\n",
        "  while id<=100-i:\n",
        "    id+=i\n",
        "    isprime[id-2]=False\n",
        "  \n",
        "res=[x for x in num if isprime[x-2]]\n",
        "print(res)"
      ],
      "execution_count": 0,
      "outputs": [
        {
          "output_type": "stream",
          "text": [
            "[2, 3, 5, 7, 11, 13, 17, 19, 23, 29, 31, 37, 41, 43, 47, 53, 59, 61, 67, 71, 73, 79, 83, 89, 97]\n"
          ],
          "name": "stdout"
        }
      ]
    },
    {
      "cell_type": "code",
      "metadata": {
        "id": "Zl5MfgCJr06Q",
        "colab_type": "code",
        "outputId": "27d1e163-ed0c-4b1f-fd83-09c52605318c",
        "colab": {
          "base_uri": "https://localhost:8080/",
          "height": 68
        }
      },
      "source": [
        "from sklearn.datasets import load_boston\n",
        "from sklearn.model_selection import train_test_split\n",
        "from sklearn.linear_model import LinearRegression\n",
        "from sklearn.preprocessing import PowerTransformer\n",
        "from sklearn.pipeline import Pipeline\n",
        "\n",
        "dataset=load_boston()\n",
        "x=dataset.data\n",
        "t=dataset.target\n",
        "pipeline=Pipeline([\n",
        "  ('scaler',PowerTransformer()),\n",
        "  ('reg',LinearRegression())\n",
        "])\n",
        "x_train,x_test,t_train,t_test=train_test_split(x,t,test_size=0.3,random_state=0)\n",
        "\n",
        "pipeline.fit(x_train,t_train)\n",
        "pipeline.score(x_train,t_train)\n",
        "linear_result=pipeline.score(x_test,t_test)\n",
        "print(linear_result)"
      ],
      "execution_count": 0,
      "outputs": [
        {
          "output_type": "stream",
          "text": [
            "0.7002856551689581\n"
          ],
          "name": "stdout"
        },
        {
          "output_type": "stream",
          "text": [
            "/usr/local/lib/python3.6/dist-packages/sklearn/preprocessing/_data.py:2982: RuntimeWarning: divide by zero encountered in log\n",
            "  loglike = -n_samples / 2 * np.log(x_trans.var())\n"
          ],
          "name": "stderr"
        }
      ]
    },
    {
      "cell_type": "code",
      "metadata": {
        "id": "udtB2wFj8UDy",
        "colab_type": "code",
        "outputId": "e6381a9e-ba07-4ad7-f9c4-cfd5dd63a363",
        "colab": {
          "base_uri": "https://localhost:8080/",
          "height": 255
        }
      },
      "source": [
        "import numpy as np\n",
        "import cupy as cp\n",
        "import time\n",
        "import tabulate\n",
        "\n",
        "def get_w_np(x,t):\n",
        "  xx=np.dot(x.T,x)\n",
        "  xx_inv=np.linalg.inv(xx)\n",
        "  xt=np.dot(x.T,t)\n",
        "  w=np.dot(xx_inv,xt)\n",
        "  return w\n",
        "\n",
        "def get_w_cp(x,t):\n",
        "  xx=cp.dot(x.T,x)\n",
        "  xx_inv=cp.linalg.inv(xx)\n",
        "  xt=cp.dot(x.T,t)\n",
        "  w=cp.dot(xx_inv,xt)\n",
        "  return w\n",
        "\n",
        "times_cpu=[]\n",
        "for N in [10,100,1000,10000]:\n",
        "  np.random.seed(0)\n",
        "  x=np.random.rand(N,N)\n",
        "  t=np.random.rand(N,1)\n",
        "\n",
        "  t_start=time.time()\n",
        "\n",
        "  w=get_w_np(x,t)\n",
        "\n",
        "  t_end=time.time()\n",
        "  elapsed_time=t_end-t_start\n",
        "  print('N={:>5}:{:>8.5f} sec'.format(N,elapsed_time))\n",
        "  times_cpu.append(elapsed_time)\n",
        "\n",
        "times_gpu=[]\n",
        "for N in [10,100,1000,10000]:\n",
        "  cp.random.seed(0)\n",
        "  x=cp.random.rand(N,N)\n",
        "  t=cp.random.rand(N,1)\n",
        "\n",
        "  cp.cuda.Stream.null.synchronize()\n",
        "  t_start=time.time()\n",
        "\n",
        "  w=get_w_cp(x,t)\n",
        "\n",
        "  cp.cuda.Stream.null.synchronize()\n",
        "  t_end=time.time()\n",
        "  elapsed_time=t_end-t_start\n",
        "  print('N={:>5}:{:>8.5f} sec'.format(N,elapsed_time))\n",
        "  times_gpu.append(elapsed_time)\n",
        "\n",
        "N=[10,100,1000,10000]\n",
        "times_cpu=np.asarray(times_cpu)\n",
        "times_gpu=np.asarray(times_gpu)\n",
        "ratio=['{:.2f} x'.format(r) for r in times_cpu/times_gpu]\n",
        "\n",
        "table=tabulate.tabulate(\n",
        "    zip(N,times_cpu,times_gpu,ratio),\n",
        "    headers=['N','Numpyでの実行時間(sec)','Cupyでの実行時間(sec)','高速化倍率']\n",
        ")\n",
        "print(table)"
      ],
      "execution_count": 0,
      "outputs": [
        {
          "output_type": "stream",
          "text": [
            "N=   10: 0.00033 sec\n",
            "N=  100: 0.00075 sec\n",
            "N= 1000: 0.12585 sec\n",
            "N=10000:90.99724 sec\n",
            "N=   10: 0.00056 sec\n",
            "N=  100: 0.00090 sec\n",
            "N= 1000: 0.01531 sec\n",
            "N=10000: 1.34605 sec\n",
            "    N    Numpyでの実行時間(sec)    Cupyでの実行時間(sec)  高速化倍率\n",
            "-----  ------------------------  -----------------------  ------------\n",
            "   10               0.000325918              0.000562906  0.58 x\n",
            "  100               0.000751019              0.000895023  0.84 x\n",
            " 1000               0.125846                 0.0153127    8.22 x\n",
            "10000              90.9972                   1.34605      67.60 x\n"
          ],
          "name": "stdout"
        }
      ]
    },
    {
      "cell_type": "code",
      "metadata": {
        "id": "8Jwu2864IMU1",
        "colab_type": "code",
        "outputId": "e2e1a5ac-63d1-4a94-db81-5145335f4123",
        "colab": {
          "base_uri": "https://localhost:8080/",
          "height": 282
        }
      },
      "source": [
        "import pandas as pd\n",
        "df=pd.read_csv('sample_data/california_housing_train.csv')\n",
        "#df['target']=None\n",
        "'''\n",
        "mask1=df['median_house_value']<60000\n",
        "mask2=(df['median_house_value'] >=60000) & (df['median_house_value'] < 70000)\n",
        "mask3=(df['median_house_value'] >=70000) & (df['median_house_value'] < 80000)\n",
        "mask4=df['median_house_value'] >= 80000\n",
        "\n",
        "df.loc[mask1,'target']=0\n",
        "df.loc[mask2,'target']=1\n",
        "df.loc[mask3,'target']=2\n",
        "df.loc[mask4,'target']=3\n",
        "df.head()\n",
        "\n",
        "df.iloc[0,0]=None\n",
        "df.head()\n",
        "mean=df.mean()\n",
        "df_fillna=df.fillna(mean)\n",
        "df_fillna.head()\n",
        "'''\n",
        "df=pd.DataFrame(\n",
        "    data=np.random.randn(10,10)\n",
        ")\n",
        "df.plot()"
      ],
      "execution_count": 0,
      "outputs": [
        {
          "output_type": "execute_result",
          "data": {
            "text/plain": [
              "<matplotlib.axes._subplots.AxesSubplot at 0x7f2842f72080>"
            ]
          },
          "metadata": {
            "tags": []
          },
          "execution_count": 48
        },
        {
          "output_type": "display_data",
          "data": {
            "image/png": "[encoded data removed]",
            "text/plain": [
              "<Figure size 432x288 with 1 Axes>"
            ]
          },
          "metadata": {
            "tags": []
          }
        }
      ]
    },
    {
      "cell_type": "code",
      "metadata": {
        "id": "LEoEP7RbDs4A",
        "colab_type": "code",
        "outputId": "eb7724f7-e496-4018-b2eb-9554e06e253c",
        "colab": {
          "base_uri": "https://localhost:8080/",
          "height": 204
        }
      },
      "source": [
        "%matplotlib inline\n",
        "import matplotlib.pyplot as plt\n",
        "import pandas as pd\n",
        "import numpy as np\n",
        "import seaborn as sns\n",
        "\n",
        "df=pd.read_csv('sample_data/california_housing_train.csv')\n",
        "df.head()\n",
        "#plt.scatter(df['population'],df['median_house_value'])\n",
        "#plt.hist(df['median_house_value'],bins=50)\n",
        "#plt.boxplot((df['total_bedrooms'],df['population']))\n",
        "\n",
        "#sns.distplot(df['population'])\n",
        "#sns.pairplot(df)"
      ],
      "execution_count": 0,
      "outputs": [
        {
          "output_type": "execute_result",
          "data": {
            "text/html": [
              "<div>\n",
              "<style scoped>\n",
              "    .dataframe tbody tr th:only-of-type {\n",
              "        vertical-align: middle;\n",
              "    }\n",
              "\n",
              "    .dataframe tbody tr th {\n",
              "        vertical-align: top;\n",
              "    }\n",
              "\n",
              "    .dataframe thead th {\n",
              "        text-align: right;\n",
              "    }\n",
              "</style>\n",
              "<table border=\"1\" class=\"dataframe\">\n",
              "  <thead>\n",
              "    <tr style=\"text-align: right;\">\n",
              "      <th></th>\n",
              "      <th>longitude</th>\n",
              "      <th>latitude</th>\n",
              "      <th>housing_median_age</th>\n",
              "      <th>total_rooms</th>\n",
              "      <th>total_bedrooms</th>\n",
              "      <th>population</th>\n",
              "      <th>households</th>\n",
              "      <th>median_income</th>\n",
              "      <th>median_house_value</th>\n",
              "    </tr>\n",
              "  </thead>\n",
              "  <tbody>\n",
              "    <tr>\n",
              "      <th>0</th>\n",
              "      <td>-114.31</td>\n",
              "      <td>34.19</td>\n",
              "      <td>15.0</td>\n",
              "      <td>5612.0</td>\n",
              "      <td>1283.0</td>\n",
              "      <td>1015.0</td>\n",
              "      <td>472.0</td>\n",
              "      <td>1.4936</td>\n",
              "      <td>66900.0</td>\n",
              "    </tr>\n",
              "    <tr>\n",
              "      <th>1</th>\n",
              "      <td>-114.47</td>\n",
              "      <td>34.40</td>\n",
              "      <td>19.0</td>\n",
              "      <td>7650.0</td>\n",
              "      <td>1901.0</td>\n",
              "      <td>1129.0</td>\n",
              "      <td>463.0</td>\n",
              "      <td>1.8200</td>\n",
              "      <td>80100.0</td>\n",
              "    </tr>\n",
              "    <tr>\n",
              "      <th>2</th>\n",
              "      <td>-114.56</td>\n",
              "      <td>33.69</td>\n",
              "      <td>17.0</td>\n",
              "      <td>720.0</td>\n",
              "      <td>174.0</td>\n",
              "      <td>333.0</td>\n",
              "      <td>117.0</td>\n",
              "      <td>1.6509</td>\n",
              "      <td>85700.0</td>\n",
              "    </tr>\n",
              "    <tr>\n",
              "      <th>3</th>\n",
              "      <td>-114.57</td>\n",
              "      <td>33.64</td>\n",
              "      <td>14.0</td>\n",
              "      <td>1501.0</td>\n",
              "      <td>337.0</td>\n",
              "      <td>515.0</td>\n",
              "      <td>226.0</td>\n",
              "      <td>3.1917</td>\n",
              "      <td>73400.0</td>\n",
              "    </tr>\n",
              "    <tr>\n",
              "      <th>4</th>\n",
              "      <td>-114.57</td>\n",
              "      <td>33.57</td>\n",
              "      <td>20.0</td>\n",
              "      <td>1454.0</td>\n",
              "      <td>326.0</td>\n",
              "      <td>624.0</td>\n",
              "      <td>262.0</td>\n",
              "      <td>1.9250</td>\n",
              "      <td>65500.0</td>\n",
              "    </tr>\n",
              "  </tbody>\n",
              "</table>\n",
              "</div>"
            ],
            "text/plain": [
              "   longitude  latitude  ...  median_income  median_house_value\n",
              "0    -114.31     34.19  ...         1.4936             66900.0\n",
              "1    -114.47     34.40  ...         1.8200             80100.0\n",
              "2    -114.56     33.69  ...         1.6509             85700.0\n",
              "3    -114.57     33.64  ...         3.1917             73400.0\n",
              "4    -114.57     33.57  ...         1.9250             65500.0\n",
              "\n",
              "[5 rows x 9 columns]"
            ]
          },
          "metadata": {
            "tags": []
          },
          "execution_count": 15
        }
      ]
    },
    {
      "cell_type": "code",
      "metadata": {
        "id": "v4PhaCmTOET3",
        "colab_type": "code",
        "outputId": "34ad07b0-90b7-49fb-d7ec-b973b4f0e099",
        "colab": {
          "base_uri": "https://localhost:8080/",
          "height": 68
        }
      },
      "source": [
        "import numpy as np\n",
        "\n",
        "x=np.array([2,3,1])\n",
        "t=np.array([20])\n",
        "#first layer\n",
        "w1=np.array([[3,1,2],[-2,-3,-1]])\n",
        "b1=np.array([0,0])\n",
        "#second layer\n",
        "w2=np.array([[3,2]])\n",
        "b2=np.array([0])\n",
        "\n",
        "u1=w1.dot(x)+b1\n",
        "h1=1./(1+np.exp(-u1))\n",
        "y=w2.dot(h1)+b2\n",
        "\n",
        "dLdy=-2*(t-y)\n",
        "dydw2=h1\n",
        "dydh1=w2\n",
        "dh1du1=h1*(1-h1)\n",
        "du1dw1=x\n",
        "dLdu1=dLdy*dydh1*dh1du1\n",
        "\n",
        "du1dw1=du1dw1[None]\n",
        "\n",
        "dLdw1=dLdu1.T.dot(du1dw1)\n",
        "dLdw2=dLdy*dydw2\n",
        "\n",
        "print('dLdw1:',dLdw1)\n",
        "print('dLdw2:',dLdw2)"
      ],
      "execution_count": 0,
      "outputs": [
        {
          "output_type": "stream",
          "text": [
            "dLdw1: [[-3.40704286e-03 -5.11056429e-03 -1.70352143e-03]\n",
            " [-1.13088040e-04 -1.69632060e-04 -5.65440200e-05]]\n",
            "dLdw2: [-3.39995290e+01 -2.82720335e-05]\n"
          ],
          "name": "stdout"
        }
      ]
    },
    {
      "cell_type": "code",
      "metadata": {
        "id": "OC3HkMY_HibL",
        "colab_type": "code",
        "colab": {}
      },
      "source": [
        "import chainer\n",
        "from sklearn.datasets import load_iris\n",
        "from sklearn.model_selection import train_test_split\n",
        "import chainer.links as L\n",
        "import chainer.functions as F\n",
        "from chainer import Sequential\n",
        "import numpy as np\n",
        "%matplotlib inline\n",
        "import matplotlib.pyplot as plt\n",
        "\n",
        "#データを読み込み、chainerに合う型に変換\n",
        "x,t=load_iris(return_X_y=True)\n",
        "x=x.astype('float32')\n",
        "t=t.astype('int32')\n",
        "\n",
        "#テストデータとそれ以外で分割\n",
        "x_train_val,x_test,t_train_val,t_test = train_test_split(x,t,test_size=0.3,random_state=0)\n",
        "#上の残りを訓練用と検証用に分割\n",
        "x_train,x_val,t_train,t_val=train_test_split(x_train_val,t_train_val,test_size=0.3,random_state=0)\n",
        "\n",
        "l=L.Linear(3,2)\n",
        "n_input=4\n",
        "n_hidden=10\n",
        "n_output=3\n",
        "\n",
        "net=Sequential(\n",
        "    L.Linear(n_input,n_hidden),F.relu,\n",
        "    L.Linear(n_hidden,n_hidden),F.relu,\n",
        "    L.Linear(n_hidden,n_output)\n",
        ")\n",
        "\n",
        "optimizer=chainer.optimizers.SGD(lr=0.01)\n",
        "optimizer.setup(net)\n",
        "\n",
        "n_epoch=30\n",
        "n_batchsize=16\n",
        "\n",
        "iteration=0\n",
        "\n",
        "results_train={\n",
        "    'loss':[],\n",
        "    'accuracy':[]\n",
        "}\n",
        "results_valid={\n",
        "    'loss':[],\n",
        "    'accuracy':[]\n",
        "}\n",
        "\n",
        "for epoch in range(n_epoch):\n",
        "  #データセットを並び替えた順番を取得\n",
        "  order=np.random.permutation(range(len(x_train)))\n",
        "\n",
        "  #各バッチごとの目的関数の出力と分類精度の保存用リスト\n",
        "  loss_list=[]\n",
        "  accuracy_list=[]\n",
        "\n",
        "  for i in range(0,len(order),n_batchsize):\n",
        "    #バッチを準備\n",
        "    index=order[i:i+n_batchsize]\n",
        "    x_train_batch=x_train[index,:]\n",
        "    t_train_batch=t_train[index]\n",
        "\n",
        "    #予測値をNNから出力\n",
        "    y_train_batch=net(x_train_batch)\n",
        "\n",
        "    #目的関数の出力から分類精度を計算する\n",
        "    loss_train_batch=F.softmax_cross_entropy(y_train_batch,t_train_batch)\n",
        "    accuracy_train_batch=F.accuracy(y_train_batch,t_train_batch)\n",
        "\n",
        "    loss_list.append(loss_train_batch.array)\n",
        "    accuracy_list.append(accuracy_train_batch.array)\n",
        "\n",
        "    #勾配のリセットと勾配の計算\n",
        "    net.cleargrads()\n",
        "    loss_train_batch.backward()\n",
        "\n",
        "    #パラメータの更新\n",
        "    optimizer.update()\n",
        "\n",
        "    #カウントアップ\n",
        "    iteration+=1\n",
        "\n",
        "  #訓練データに対する目的関数の出力と分類精度を集計\n",
        "  loss_train=np.mean(loss_list)\n",
        "  accuracy_train=np.mean(accuracy_list)\n",
        "\n",
        "  #１エポック終えたら、検証データで評価\n",
        "  #検証データで予測値を出力\n",
        "  with chainer.using_config('train',False),chainer.using_config('enable_backprop',False):\n",
        "    y_val=net(x_val)\n",
        "\n",
        "  #目的関数の出力から分類精度を計算する\n",
        "  loss_val=F.softmax_cross_entropy(y_val,t_val)\n",
        "  accuracy_val=F.accuracy(y_val,t_val)\n",
        "\n",
        "  #結果の表示\n",
        "  #print('epoch: {},iteration: {}, loss(train): {:.4f}, loss(valid): {:.4f}'.format(\n",
        "    #epoch,iteration,loss_train,loss_val.array))\n",
        "\n",
        "  #ログを保存\n",
        "  results_train['loss'].append(loss_train)\n",
        "  results_train['accuracy'].append(accuracy_train)\n",
        "  results_valid['loss'].append(loss_val.array)\n",
        "  results_valid['accuracy'].append(accuracy_val.array)\n",
        "'''\n",
        "#目的関数の出力\n",
        "plt.plot(results_train['loss'],label='train')\n",
        "plt.plot(results_valid['loss'],label='valid')\n",
        "plt.legend()\n",
        "print(\"cost func\")\n",
        "plt.show()\n",
        "#分類精度の出力\n",
        "plt.plot(results_train['accuracy'],label='train')\n",
        "plt.plot(results_valid['accuracy'],label='valid')\n",
        "plt.legend()\n",
        "print(\"\\naccuracy\")\n",
        "plt.show()\n",
        "'''\n",
        "\n",
        "with chainer.using_config('train',False),chainer.using_config('enable_backprop',False):\n",
        "  y_test=net(x_test)\n",
        "\n",
        "accuracy_test=F.accuracy(y_test,t_test)\n",
        "#print(accuracy_test.array)\n",
        "\n",
        "chainer.serializers.save_npz(\"my_iris.net\",net)"
      ],
      "execution_count": 0,
      "outputs": []
    },
    {
      "cell_type": "code",
      "metadata": {
        "id": "X2YOCJfNd2Mg",
        "colab_type": "code",
        "colab": {
          "base_uri": "https://localhost:8080/",
          "height": 34
        },
        "outputId": "a1df6766-c463-4f54-eb4e-66e4d9dfbbec"
      },
      "source": [
        "import chainer\n",
        "from chainer import Sequential\n",
        "import chainer.links as L\n",
        "import chainer.functions as F\n",
        "from sklearn.datasets import load_iris\n",
        "from sklearn.model_selection import train_test_split\n",
        "\n",
        "n_input=4\n",
        "n_hidden=10\n",
        "n_output=3\n",
        "\n",
        "#データを読み込み、chainerに合う型に変換\n",
        "x,t=load_iris(return_X_y=True)\n",
        "x=x.astype('float32')\n",
        "t=t.astype('int32')\n",
        "\n",
        "#テストデータとそれ以外で分割\n",
        "x_train_val,x_test,t_train_val,t_test = train_test_split(x,t,test_size=0.3,random_state=0)\n",
        "#上の残りを訓練用と検証用に分割\n",
        "x_train,x_val,t_train,t_val=train_test_split(x_train_val,t_train_val,test_size=0.3,random_state=0)\n",
        "\n",
        "loaded_net=Sequential(\n",
        "    L.Linear(n_input,n_hidden),F.relu,\n",
        "    L.Linear(n_hidden,n_hidden),F.relu,\n",
        "    L.Linear(n_hidden,n_output)\n",
        ")\n",
        "chainer.serializers.load_npz('my_iris.net',loaded_net)\n",
        "\n",
        "with chainer.using_config('train',False),chainer.using_config('enabled_backprop',False):\n",
        "  y_test=loaded_net(x_test)\n",
        "\n",
        "print(np.argmax(y_test[0,:].array))"
      ],
      "execution_count": 16,
      "outputs": [
        {
          "output_type": "stream",
          "text": [
            "2\n"
          ],
          "name": "stdout"
        }
      ]
    },
    {
      "cell_type": "code",
      "metadata": {
        "id": "bNIGZA9UZfYP",
        "colab_type": "code",
        "colab": {}
      },
      "source": [
        ""
      ],
      "execution_count": 0,
      "outputs": []
    }
  ]
}