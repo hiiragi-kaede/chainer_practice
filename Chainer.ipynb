{
  "nbformat": 4,
  "nbformat_minor": 0,
  "metadata": {
    "colab": {
      "name": "Chainer",
      "provenance": [],
      "collapsed_sections": [],
      "toc_visible": true,
      "authorship_tag": "ABX9TyM6GgOL2toz1mAyRzvGo+rF",
      "include_colab_link": true
    },
    "kernelspec": {
      "name": "python3",
      "display_name": "Python 3"
    },
    "accelerator": "GPU"
  },
  "cells": [
    {
      "cell_type": "markdown",
      "metadata": {
        "id": "view-in-github",
        "colab_type": "text"
      },
      "source": [
        "<a href=\"https://colab.research.google.com/github/hiiragi-kaede/chainer_practice/blob/master/Chainer.ipynb\" target=\"_parent\"><img src=\"https://colab.research.google.com/assets/colab-badge.svg\" alt=\"Open In Colab\"/></a>"
      ]
    },
    {
      "cell_type": "code",
      "metadata": {
        "id": "uWvi7sZq99fj",
        "colab_type": "code",
        "outputId": "a48fb8f9-49b7-4b36-fb9c-3a58fb3ed944",
        "colab": {
          "base_uri": "https://localhost:8080/",
          "height": 85
        }
      },
      "source": [
        "def f(a):\n",
        "  a=[6,7,8]\n",
        "  print(id(a))\n",
        "\n",
        "def g(a):\n",
        "  a.append(1)\n",
        "\n",
        "def func():\n",
        "  a0=[1,2,3]\n",
        "  print(id(a0))\n",
        "  f(a0)\n",
        "  \n",
        "  print(a0)\n",
        "\n",
        "  a1=[1,2,3]\n",
        "  g(a1)\n",
        "  print(a1)\n",
        "\n",
        "func()"
      ],
      "execution_count": 0,
      "outputs": [
        {
          "output_type": "stream",
          "text": [
            "139656822769288\n",
            "139656822786632\n",
            "[1, 2, 3]\n",
            "[1, 2, 3, 1]\n"
          ],
          "name": "stdout"
        }
      ]
    },
    {
      "cell_type": "code",
      "metadata": {
        "id": "F1nbbLFh5r4l",
        "colab_type": "code",
        "outputId": "28474456-8a0f-4360-ae97-73b923d44395",
        "colab": {
          "base_uri": "https://localhost:8080/",
          "height": 102
        }
      },
      "source": [
        "class DataManager:\n",
        "  def __init__(self,x,y,z):\n",
        "    self.x=x\n",
        "    self.y=y\n",
        "    self.z=z\n",
        "  \n",
        "  def add_x(self,delta):\n",
        "    self.x+=delta\n",
        "  \n",
        "  def add_y(self,delta):\n",
        "    self.y+=delta\n",
        "  \n",
        "  def add_z(self,delta):\n",
        "    self.z+=delta\n",
        "  \n",
        "  def sum(self):\n",
        "    return self.x+self.y+self.z\n",
        "\n",
        "data=DataManager(2,3,5)\n",
        "print(data.sum())\n",
        "data.add_x(4)\n",
        "print(data.sum())\n",
        "data.add_y(0)\n",
        "print(data.sum())\n",
        "data.add_z(-9)\n",
        "print(data.sum())\n",
        "print('{},{},{}'.format(data.x,data.y,data.z))"
      ],
      "execution_count": 0,
      "outputs": [
        {
          "output_type": "stream",
          "text": [
            "10\n",
            "14\n",
            "14\n",
            "5\n",
            "6,3,-4\n"
          ],
          "name": "stdout"
        }
      ]
    },
    {
      "cell_type": "code",
      "metadata": {
        "id": "4HvuJf8DA-91",
        "colab_type": "code",
        "outputId": "cdc5b683-8d22-4d57-8d9c-6298528cae8a",
        "colab": {
          "base_uri": "https://localhost:8080/",
          "height": 34
        }
      },
      "source": [
        "num=[x for x in range(2,101)]\n",
        "isprime=[True for x in range(2,101)]\n",
        "for i in range(2,11):\n",
        "  id=i\n",
        "  while id<=100-i:\n",
        "    id+=i\n",
        "    isprime[id-2]=False\n",
        "  \n",
        "res=[x for x in num if isprime[x-2]]\n",
        "print(res)"
      ],
      "execution_count": 0,
      "outputs": [
        {
          "output_type": "stream",
          "text": [
            "[2, 3, 5, 7, 11, 13, 17, 19, 23, 29, 31, 37, 41, 43, 47, 53, 59, 61, 67, 71, 73, 79, 83, 89, 97]\n"
          ],
          "name": "stdout"
        }
      ]
    },
    {
      "cell_type": "code",
      "metadata": {
        "id": "Zl5MfgCJr06Q",
        "colab_type": "code",
        "outputId": "27d1e163-ed0c-4b1f-fd83-09c52605318c",
        "colab": {
          "base_uri": "https://localhost:8080/",
          "height": 68
        }
      },
      "source": [
        "from sklearn.datasets import load_boston\n",
        "from sklearn.model_selection import train_test_split\n",
        "from sklearn.linear_model import LinearRegression\n",
        "from sklearn.preprocessing import PowerTransformer\n",
        "from sklearn.pipeline import Pipeline\n",
        "\n",
        "dataset=load_boston()\n",
        "x=dataset.data\n",
        "t=dataset.target\n",
        "pipeline=Pipeline([\n",
        "  ('scaler',PowerTransformer()),\n",
        "  ('reg',LinearRegression())\n",
        "])\n",
        "x_train,x_test,t_train,t_test=train_test_split(x,t,test_size=0.3,random_state=0)\n",
        "\n",
        "pipeline.fit(x_train,t_train)\n",
        "pipeline.score(x_train,t_train)\n",
        "linear_result=pipeline.score(x_test,t_test)\n",
        "print(linear_result)"
      ],
      "execution_count": 0,
      "outputs": [
        {
          "output_type": "stream",
          "text": [
            "0.7002856551689581\n"
          ],
          "name": "stdout"
        },
        {
          "output_type": "stream",
          "text": [
            "/usr/local/lib/python3.6/dist-packages/sklearn/preprocessing/_data.py:2982: RuntimeWarning: divide by zero encountered in log\n",
            "  loglike = -n_samples / 2 * np.log(x_trans.var())\n"
          ],
          "name": "stderr"
        }
      ]
    },
    {
      "cell_type": "code",
      "metadata": {
        "id": "udtB2wFj8UDy",
        "colab_type": "code",
        "outputId": "e6381a9e-ba07-4ad7-f9c4-cfd5dd63a363",
        "colab": {
          "base_uri": "https://localhost:8080/",
          "height": 255
        }
      },
      "source": [
        "import numpy as np\n",
        "import cupy as cp\n",
        "import time\n",
        "import tabulate\n",
        "\n",
        "def get_w_np(x,t):\n",
        "  xx=np.dot(x.T,x)\n",
        "  xx_inv=np.linalg.inv(xx)\n",
        "  xt=np.dot(x.T,t)\n",
        "  w=np.dot(xx_inv,xt)\n",
        "  return w\n",
        "\n",
        "def get_w_cp(x,t):\n",
        "  xx=cp.dot(x.T,x)\n",
        "  xx_inv=cp.linalg.inv(xx)\n",
        "  xt=cp.dot(x.T,t)\n",
        "  w=cp.dot(xx_inv,xt)\n",
        "  return w\n",
        "\n",
        "times_cpu=[]\n",
        "for N in [10,100,1000,10000]:\n",
        "  np.random.seed(0)\n",
        "  x=np.random.rand(N,N)\n",
        "  t=np.random.rand(N,1)\n",
        "\n",
        "  t_start=time.time()\n",
        "\n",
        "  w=get_w_np(x,t)\n",
        "\n",
        "  t_end=time.time()\n",
        "  elapsed_time=t_end-t_start\n",
        "  print('N={:>5}:{:>8.5f} sec'.format(N,elapsed_time))\n",
        "  times_cpu.append(elapsed_time)\n",
        "\n",
        "times_gpu=[]\n",
        "for N in [10,100,1000,10000]:\n",
        "  cp.random.seed(0)\n",
        "  x=cp.random.rand(N,N)\n",
        "  t=cp.random.rand(N,1)\n",
        "\n",
        "  cp.cuda.Stream.null.synchronize()\n",
        "  t_start=time.time()\n",
        "\n",
        "  w=get_w_cp(x,t)\n",
        "\n",
        "  cp.cuda.Stream.null.synchronize()\n",
        "  t_end=time.time()\n",
        "  elapsed_time=t_end-t_start\n",
        "  print('N={:>5}:{:>8.5f} sec'.format(N,elapsed_time))\n",
        "  times_gpu.append(elapsed_time)\n",
        "\n",
        "N=[10,100,1000,10000]\n",
        "times_cpu=np.asarray(times_cpu)\n",
        "times_gpu=np.asarray(times_gpu)\n",
        "ratio=['{:.2f} x'.format(r) for r in times_cpu/times_gpu]\n",
        "\n",
        "table=tabulate.tabulate(\n",
        "    zip(N,times_cpu,times_gpu,ratio),\n",
        "    headers=['N','Numpyでの実行時間(sec)','Cupyでの実行時間(sec)','高速化倍率']\n",
        ")\n",
        "print(table)"
      ],
      "execution_count": 0,
      "outputs": [
        {
          "output_type": "stream",
          "text": [
            "N=   10: 0.00033 sec\n",
            "N=  100: 0.00075 sec\n",
            "N= 1000: 0.12585 sec\n",
            "N=10000:90.99724 sec\n",
            "N=   10: 0.00056 sec\n",
            "N=  100: 0.00090 sec\n",
            "N= 1000: 0.01531 sec\n",
            "N=10000: 1.34605 sec\n",
            "    N    Numpyでの実行時間(sec)    Cupyでの実行時間(sec)  高速化倍率\n",
            "-----  ------------------------  -----------------------  ------------\n",
            "   10               0.000325918              0.000562906  0.58 x\n",
            "  100               0.000751019              0.000895023  0.84 x\n",
            " 1000               0.125846                 0.0153127    8.22 x\n",
            "10000              90.9972                   1.34605      67.60 x\n"
          ],
          "name": "stdout"
        }
      ]
    },
    {
      "cell_type": "code",
      "metadata": {
        "id": "8Jwu2864IMU1",
        "colab_type": "code",
        "outputId": "e2e1a5ac-63d1-4a94-db81-5145335f4123",
        "colab": {
          "base_uri": "https://localhost:8080/",
          "height": 282
        }
      },
      "source": [
        "import pandas as pd\n",
        "df=pd.read_csv('sample_data/california_housing_train.csv')\n",
        "#df['target']=None\n",
        "'''\n",
        "mask1=df['median_house_value']<60000\n",
        "mask2=(df['median_house_value'] >=60000) & (df['median_house_value'] < 70000)\n",
        "mask3=(df['median_house_value'] >=70000) & (df['median_house_value'] < 80000)\n",
        "mask4=df['median_house_value'] >= 80000\n",
        "\n",
        "df.loc[mask1,'target']=0\n",
        "df.loc[mask2,'target']=1\n",
        "df.loc[mask3,'target']=2\n",
        "df.loc[mask4,'target']=3\n",
        "df.head()\n",
        "\n",
        "df.iloc[0,0]=None\n",
        "df.head()\n",
        "mean=df.mean()\n",
        "df_fillna=df.fillna(mean)\n",
        "df_fillna.head()\n",
        "'''\n",
        "df=pd.DataFrame(\n",
        "    data=np.random.randn(10,10)\n",
        ")\n",
        "df.plot()"
      ],
      "execution_count": 0,
      "outputs": [
        {
          "output_type": "execute_result",
          "data": {
            "text/plain": [
              "<matplotlib.axes._subplots.AxesSubplot at 0x7f2842f72080>"
            ]
          },
          "metadata": {
            "tags": []
          },
          "execution_count": 48
        },
        {
          "output_type": "display_data",
          "data": {
            "image/png": "[encoded data removed]",
            "text/plain": [
              "<Figure size 432x288 with 1 Axes>"
            ]
          },
          "metadata": {
            "tags": []
          }
        }
      ]
    },
    {
      "cell_type": "code",
      "metadata": {
        "id": "LEoEP7RbDs4A",
        "colab_type": "code",
        "outputId": "eb7724f7-e496-4018-b2eb-9554e06e253c",
        "colab": {
          "base_uri": "https://localhost:8080/",
          "height": 204
        }
      },
      "source": [
        "%matplotlib inline\n",
        "import matplotlib.pyplot as plt\n",
        "import pandas as pd\n",
        "import numpy as np\n",
        "import seaborn as sns\n",
        "\n",
        "df=pd.read_csv('sample_data/california_housing_train.csv')\n",
        "df.head()\n",
        "#plt.scatter(df['population'],df['median_house_value'])\n",
        "#plt.hist(df['median_house_value'],bins=50)\n",
        "#plt.boxplot((df['total_bedrooms'],df['population']))\n",
        "\n",
        "#sns.distplot(df['population'])\n",
        "#sns.pairplot(df)"
      ],
      "execution_count": 0,
      "outputs": [
        {
          "output_type": "execute_result",
          "data": {
            "text/html": [
              "<div>\n",
              "<style scoped>\n",
              "    .dataframe tbody tr th:only-of-type {\n",
              "        vertical-align: middle;\n",
              "    }\n",
              "\n",
              "    .dataframe tbody tr th {\n",
              "        vertical-align: top;\n",
              "    }\n",
              "\n",
              "    .dataframe thead th {\n",
              "        text-align: right;\n",
              "    }\n",
              "</style>\n",
              "<table border=\"1\" class=\"dataframe\">\n",
              "  <thead>\n",
              "    <tr style=\"text-align: right;\">\n",
              "      <th></th>\n",
              "      <th>longitude</th>\n",
              "      <th>latitude</th>\n",
              "      <th>housing_median_age</th>\n",
              "      <th>total_rooms</th>\n",
              "      <th>total_bedrooms</th>\n",
              "      <th>population</th>\n",
              "      <th>households</th>\n",
              "      <th>median_income</th>\n",
              "      <th>median_house_value</th>\n",
              "    </tr>\n",
              "  </thead>\n",
              "  <tbody>\n",
              "    <tr>\n",
              "      <th>0</th>\n",
              "      <td>-114.31</td>\n",
              "      <td>34.19</td>\n",
              "      <td>15.0</td>\n",
              "      <td>5612.0</td>\n",
              "      <td>1283.0</td>\n",
              "      <td>1015.0</td>\n",
              "      <td>472.0</td>\n",
              "      <td>1.4936</td>\n",
              "      <td>66900.0</td>\n",
              "    </tr>\n",
              "    <tr>\n",
              "      <th>1</th>\n",
              "      <td>-114.47</td>\n",
              "      <td>34.40</td>\n",
              "      <td>19.0</td>\n",
              "      <td>7650.0</td>\n",
              "      <td>1901.0</td>\n",
              "      <td>1129.0</td>\n",
              "      <td>463.0</td>\n",
              "      <td>1.8200</td>\n",
              "      <td>80100.0</td>\n",
              "    </tr>\n",
              "    <tr>\n",
              "      <th>2</th>\n",
              "      <td>-114.56</td>\n",
              "      <td>33.69</td>\n",
              "      <td>17.0</td>\n",
              "      <td>720.0</td>\n",
              "      <td>174.0</td>\n",
              "      <td>333.0</td>\n",
              "      <td>117.0</td>\n",
              "      <td>1.6509</td>\n",
              "      <td>85700.0</td>\n",
              "    </tr>\n",
              "    <tr>\n",
              "      <th>3</th>\n",
              "      <td>-114.57</td>\n",
              "      <td>33.64</td>\n",
              "      <td>14.0</td>\n",
              "      <td>1501.0</td>\n",
              "      <td>337.0</td>\n",
              "      <td>515.0</td>\n",
              "      <td>226.0</td>\n",
              "      <td>3.1917</td>\n",
              "      <td>73400.0</td>\n",
              "    </tr>\n",
              "    <tr>\n",
              "      <th>4</th>\n",
              "      <td>-114.57</td>\n",
              "      <td>33.57</td>\n",
              "      <td>20.0</td>\n",
              "      <td>1454.0</td>\n",
              "      <td>326.0</td>\n",
              "      <td>624.0</td>\n",
              "      <td>262.0</td>\n",
              "      <td>1.9250</td>\n",
              "      <td>65500.0</td>\n",
              "    </tr>\n",
              "  </tbody>\n",
              "</table>\n",
              "</div>"
            ],
            "text/plain": [
              "   longitude  latitude  ...  median_income  median_house_value\n",
              "0    -114.31     34.19  ...         1.4936             66900.0\n",
              "1    -114.47     34.40  ...         1.8200             80100.0\n",
              "2    -114.56     33.69  ...         1.6509             85700.0\n",
              "3    -114.57     33.64  ...         3.1917             73400.0\n",
              "4    -114.57     33.57  ...         1.9250             65500.0\n",
              "\n",
              "[5 rows x 9 columns]"
            ]
          },
          "metadata": {
            "tags": []
          },
          "execution_count": 15
        }
      ]
    },
    {
      "cell_type": "code",
      "metadata": {
        "id": "v4PhaCmTOET3",
        "colab_type": "code",
        "outputId": "34ad07b0-90b7-49fb-d7ec-b973b4f0e099",
        "colab": {
          "base_uri": "https://localhost:8080/",
          "height": 68
        }
      },
      "source": [
        "import numpy as np\n",
        "\n",
        "x=np.array([2,3,1])\n",
        "t=np.array([20])\n",
        "#first layer\n",
        "w1=np.array([[3,1,2],[-2,-3,-1]])\n",
        "b1=np.array([0,0])\n",
        "#second layer\n",
        "w2=np.array([[3,2]])\n",
        "b2=np.array([0])\n",
        "\n",
        "u1=w1.dot(x)+b1\n",
        "h1=1./(1+np.exp(-u1))\n",
        "y=w2.dot(h1)+b2\n",
        "\n",
        "dLdy=-2*(t-y)\n",
        "dydw2=h1\n",
        "dydh1=w2\n",
        "dh1du1=h1*(1-h1)\n",
        "du1dw1=x\n",
        "dLdu1=dLdy*dydh1*dh1du1\n",
        "\n",
        "du1dw1=du1dw1[None]\n",
        "\n",
        "dLdw1=dLdu1.T.dot(du1dw1)\n",
        "dLdw2=dLdy*dydw2\n",
        "\n",
        "print('dLdw1:',dLdw1)\n",
        "print('dLdw2:',dLdw2)"
      ],
      "execution_count": 0,
      "outputs": [
        {
          "output_type": "stream",
          "text": [
            "dLdw1: [[-3.40704286e-03 -5.11056429e-03 -1.70352143e-03]\n",
            " [-1.13088040e-04 -1.69632060e-04 -5.65440200e-05]]\n",
            "dLdw2: [-3.39995290e+01 -2.82720335e-05]\n"
          ],
          "name": "stdout"
        }
      ]
    },
    {
      "cell_type": "code",
      "metadata": {
        "id": "OC3HkMY_HibL",
        "colab_type": "code",
        "colab": {}
      },
      "source": [
        "import chainer\n",
        "from sklearn.datasets import load_iris\n",
        "from sklearn.model_selection import train_test_split\n",
        "import chainer.links as L\n",
        "import chainer.functions as F\n",
        "from chainer import Sequential\n",
        "import numpy as np\n",
        "%matplotlib inline\n",
        "import matplotlib.pyplot as plt\n",
        "\n",
        "#データを読み込み、chainerに合う型に変換\n",
        "x,t=load_iris(return_X_y=True)\n",
        "x=x.astype('float32')\n",
        "t=t.astype('int32')\n",
        "\n",
        "#テストデータとそれ以外で分割\n",
        "x_train_val,x_test,t_train_val,t_test = train_test_split(x,t,test_size=0.3,random_state=0)\n",
        "#上の残りを訓練用と検証用に分割\n",
        "x_train,x_val,t_train,t_val=train_test_split(x_train_val,t_train_val,test_size=0.3,random_state=0)\n",
        "\n",
        "l=L.Linear(3,2)\n",
        "n_input=4\n",
        "n_hidden=10\n",
        "n_output=3\n",
        "\n",
        "net=Sequential(\n",
        "    L.Linear(n_input,n_hidden),F.relu,\n",
        "    L.Linear(n_hidden,n_hidden),F.relu,\n",
        "    L.Linear(n_hidden,n_output)\n",
        ")\n",
        "\n",
        "optimizer=chainer.optimizers.SGD(lr=0.01)\n",
        "optimizer.setup(net)\n",
        "\n",
        "n_epoch=30\n",
        "n_batchsize=16\n",
        "\n",
        "iteration=0\n",
        "\n",
        "results_train={\n",
        "    'loss':[],\n",
        "    'accuracy':[]\n",
        "}\n",
        "results_valid={\n",
        "    'loss':[],\n",
        "    'accuracy':[]\n",
        "}\n",
        "\n",
        "for epoch in range(n_epoch):\n",
        "  #データセットを並び替えた順番を取得\n",
        "  order=np.random.permutation(range(len(x_train)))\n",
        "\n",
        "  #各バッチごとの目的関数の出力と分類精度の保存用リスト\n",
        "  loss_list=[]\n",
        "  accuracy_list=[]\n",
        "\n",
        "  for i in range(0,len(order),n_batchsize):\n",
        "    #バッチを準備\n",
        "    index=order[i:i+n_batchsize]\n",
        "    x_train_batch=x_train[index,:]\n",
        "    t_train_batch=t_train[index]\n",
        "\n",
        "    #予測値をNNから出力\n",
        "    y_train_batch=net(x_train_batch)\n",
        "\n",
        "    #目的関数の出力から分類精度を計算する\n",
        "    loss_train_batch=F.softmax_cross_entropy(y_train_batch,t_train_batch)\n",
        "    accuracy_train_batch=F.accuracy(y_train_batch,t_train_batch)\n",
        "\n",
        "    loss_list.append(loss_train_batch.array)\n",
        "    accuracy_list.append(accuracy_train_batch.array)\n",
        "\n",
        "    #勾配のリセットと勾配の計算\n",
        "    net.cleargrads()\n",
        "    loss_train_batch.backward()\n",
        "\n",
        "    #パラメータの更新\n",
        "    optimizer.update()\n",
        "\n",
        "    #カウントアップ\n",
        "    iteration+=1\n",
        "\n",
        "  #訓練データに対する目的関数の出力と分類精度を集計\n",
        "  loss_train=np.mean(loss_list)\n",
        "  accuracy_train=np.mean(accuracy_list)\n",
        "\n",
        "  #１エポック終えたら、検証データで評価\n",
        "  #検証データで予測値を出力\n",
        "  with chainer.using_config('train',False),chainer.using_config('enable_backprop',False):\n",
        "    y_val=net(x_val)\n",
        "\n",
        "  #目的関数の出力から分類精度を計算する\n",
        "  loss_val=F.softmax_cross_entropy(y_val,t_val)\n",
        "  accuracy_val=F.accuracy(y_val,t_val)\n",
        "\n",
        "  #結果の表示\n",
        "  #print('epoch: {},iteration: {}, loss(train): {:.4f}, loss(valid): {:.4f}'.format(\n",
        "    #epoch,iteration,loss_train,loss_val.array))\n",
        "\n",
        "  #ログを保存\n",
        "  results_train['loss'].append(loss_train)\n",
        "  results_train['accuracy'].append(accuracy_train)\n",
        "  results_valid['loss'].append(loss_val.array)\n",
        "  results_valid['accuracy'].append(accuracy_val.array)\n",
        "'''\n",
        "#目的関数の出力\n",
        "plt.plot(results_train['loss'],label='train')\n",
        "plt.plot(results_valid['loss'],label='valid')\n",
        "plt.legend()\n",
        "print(\"cost func\")\n",
        "plt.show()\n",
        "#分類精度の出力\n",
        "plt.plot(results_train['accuracy'],label='train')\n",
        "plt.plot(results_valid['accuracy'],label='valid')\n",
        "plt.legend()\n",
        "print(\"\\naccuracy\")\n",
        "plt.show()\n",
        "'''\n",
        "\n",
        "with chainer.using_config('train',False),chainer.using_config('enable_backprop',False):\n",
        "  y_test=net(x_test)\n",
        "\n",
        "accuracy_test=F.accuracy(y_test,t_test)\n",
        "#print(accuracy_test.array)\n",
        "\n",
        "chainer.serializers.save_npz(\"my_iris.net\",net)"
      ],
      "execution_count": 0,
      "outputs": []
    },
    {
      "cell_type": "code",
      "metadata": {
        "id": "X2YOCJfNd2Mg",
        "colab_type": "code",
        "outputId": "a1df6766-c463-4f54-eb4e-66e4d9dfbbec",
        "colab": {
          "base_uri": "https://localhost:8080/",
          "height": 34
        }
      },
      "source": [
        "import chainer\n",
        "from chainer import Sequential\n",
        "import chainer.links as L\n",
        "import chainer.functions as F\n",
        "from sklearn.datasets import load_iris\n",
        "from sklearn.model_selection import train_test_split\n",
        "\n",
        "n_input=4\n",
        "n_hidden=10\n",
        "n_output=3\n",
        "\n",
        "#データを読み込み、chainerに合う型に変換\n",
        "x,t=load_iris(return_X_y=True)\n",
        "x=x.astype('float32')\n",
        "t=t.astype('int32')\n",
        "\n",
        "#テストデータとそれ以外で分割\n",
        "x_train_val,x_test,t_train_val,t_test = train_test_split(x,t,test_size=0.3,random_state=0)\n",
        "#上の残りを訓練用と検証用に分割\n",
        "x_train,x_val,t_train,t_val=train_test_split(x_train_val,t_train_val,test_size=0.3,random_state=0)\n",
        "\n",
        "loaded_net=Sequential(\n",
        "    L.Linear(n_input,n_hidden),F.relu,\n",
        "    L.Linear(n_hidden,n_hidden),F.relu,\n",
        "    L.Linear(n_hidden,n_output)\n",
        ")\n",
        "chainer.serializers.load_npz('my_iris.net',loaded_net)\n",
        "\n",
        "with chainer.using_config('train',False),chainer.using_config('enabled_backprop',False):\n",
        "  y_test=loaded_net(x_test)\n",
        "\n",
        "print(np.argmax(y_test[0,:].array))"
      ],
      "execution_count": 0,
      "outputs": [
        {
          "output_type": "stream",
          "text": [
            "2\n"
          ],
          "name": "stdout"
        }
      ]
    },
    {
      "cell_type": "code",
      "metadata": {
        "id": "bNIGZA9UZfYP",
        "colab_type": "code",
        "outputId": "30cc8401-6bea-4533-b42b-4bef910f827d",
        "colab": {
          "base_uri": "https://localhost:8080/",
          "height": 1000
        }
      },
      "source": [
        "from sklearn.datasets import load_iris\n",
        "from chainer.datasets import TupleDataset\n",
        "from chainer.datasets import split_dataset_random\n",
        "from chainer.iterators import SerialIterator\n",
        "import chainer\n",
        "import chainer.links as L\n",
        "import chainer.functions as F\n",
        "from chainer import optimizers\n",
        "from chainer.optimizer_hooks import WeightDecay\n",
        "import matplotlib.pyplot as plt\n",
        "from chainer.serializers import save_npz\n",
        "\n",
        "class Net(chainer.Chain):\n",
        "  \n",
        "  def __init__(self,n_in=4,n_hidden=3,n_out=3):\n",
        "    super().__init__()\n",
        "    with self.init_scope():\n",
        "      self.l1=L.Linear(n_in,n_hidden)\n",
        "      self.l2=L.Linear(n_hidden,n_hidden)\n",
        "      self.l3=L.Linear(n_hidden,n_out)\n",
        "\n",
        "  def forward(self,x):\n",
        "    h=F.relu(self.l1(x))\n",
        "    h=F.relu(self.l2(h))\n",
        "    h=self.l3(h)\n",
        "\n",
        "    return h\n",
        "\n",
        "net=Net(n_hidden=100)\n",
        "\n",
        "x,t=load_iris(return_X_y=True)\n",
        "x=x.astype('float32')\n",
        "t=t.astype('int32')\n",
        "\n",
        "#入力値と目標値をタプルにして管理\n",
        "dataset=TupleDataset(x,t)\n",
        "\n",
        "#データを訓練用、検証用、テスト用に分割\n",
        "train_val,test=split_dataset_random(dataset,int(len(dataset)*0.7),seed=0)\n",
        "train,valid=split_dataset_random(train_val,int(len(train_val)*0.7),seed=0)\n",
        "\n",
        "#ミニバッチイテレータを作成\n",
        "train_iter=SerialIterator(train,batch_size=4,repeat=True,shuffle=True)\n",
        "\n",
        "optimizer=optimizers.MomentumSGD(lr=0.001,momentum=0.9)\n",
        "optimizer.setup(net)\n",
        "\n",
        "#重み減衰をパラメータ更新の際にかける\n",
        "for param in net.params():\n",
        "  if param.name!='b':#バイアスは重み減衰させない\n",
        "    param.update_rule.add_hook(WeightDecay(0.0001))#重み減衰をかける\n",
        "\n",
        "\n",
        "gpu_id=0\n",
        "n_batch=64\n",
        "n_epoch=50\n",
        "\n",
        "net.to_gpu(gpu_id)\n",
        "\n",
        "#ログ出力用\n",
        "results_train,results_valid={},{}\n",
        "results_train['loss'],results_train['accuracy']=[],[]\n",
        "results_valid['loss'],results_valid['accuracy']=[],[]\n",
        "\n",
        "count=1\n",
        "\n",
        "for epoch in range(n_epoch):\n",
        "  while True:\n",
        "    #ミニバッチの取得\n",
        "    train_batch=train_iter.next()\n",
        "\n",
        "    #x と tに分割\n",
        "    #データをGPUに転送するために、concat_examplesにgpu_idを渡す\n",
        "    x_train,t_train=chainer.dataset.concat_examples(train_batch,gpu_id)\n",
        "\n",
        "    #予測値と目的関数の計算\n",
        "    y_train=net(x_train)\n",
        "    loss_train=F.softmax_cross_entropy(y_train,t_train)\n",
        "    acc_train=F.accuracy(y_train,t_train)\n",
        "\n",
        "    #勾配の初期化と勾配の計算\n",
        "    net.cleargrads()\n",
        "    loss_train.backward()\n",
        "\n",
        "    #パラメータの更新\n",
        "    optimizer.update()\n",
        "    \n",
        "    count+=1\n",
        "\n",
        "    #1エポックごとにvalidデータで評価する\n",
        "    if train_iter.is_new_epoch:\n",
        "      #検証用データに対する結果の確認\n",
        "      with chainer.using_config('train',False),chainer.using_config('enable_backprop',False):\n",
        "        x_valid,t_valid=chainer.dataset.concat_examples(valid,gpu_id)\n",
        "        y_valid=net(x_valid)\n",
        "        loss_valid=F.softmax_cross_entropy(y_valid,t_valid)\n",
        "        acc_valid=F.accuracy(y_valid,t_valid)\n",
        "\n",
        "      #GPUで計算した結果をCPU上に転送する\n",
        "      loss_train.to_cpu()\n",
        "      loss_valid.to_cpu()\n",
        "      acc_train.to_cpu()\n",
        "      acc_valid.to_cpu()\n",
        "\n",
        "      #結果の表示\n",
        "      print(\"epoch: {}, iteration: {}, loss(train): {:.4f}, loss(valid): {:.4f},\"\n",
        "            \"acc(train): {:.4f}, acc(valid): {:.4f}\".format(\n",
        "                epoch,count,loss_train.array.mean(),loss_valid.array.mean(),\n",
        "                acc_train.array.mean(),acc_valid.array.mean()))\n",
        "\n",
        "      #可視化用に保存\n",
        "      results_train['loss'].append(loss_train.array)\n",
        "      results_train['accuracy'].append(acc_train.array)\n",
        "      results_valid['loss'].append(loss_valid.array)\n",
        "      results_valid['accuracy'].append(acc_valid.array)\n",
        "\n",
        "      break\n",
        "  \n",
        "  \n",
        "print('\\ncost function:')\n",
        "plt.plot(results_train['loss'],label='train')\n",
        "plt.plot(results_valid['loss'],label='valid')\n",
        "plt.legend()\n",
        "plt.show()\n",
        "\n",
        "print('accuracy:')\n",
        "plt.plot(results_train['accuracy'],label='train')\n",
        "plt.plot(results_valid['accuracy'],label='valid')\n",
        "plt.legend()\n",
        "plt.show()\n",
        "\n",
        "#テストデータに対する損失と制度を計算\n",
        "x_test,t_test=chainer.dataset.concat_examples(test,device=gpu_id)\n",
        "with chainer.using_config('train',False),chainer.using_config('enable_backprop',False):\n",
        "  y_test=net(x_test)\n",
        "  loss_test=F.softmax_cross_entropy(y_test,t_test)\n",
        "  acc_test=F.accuracy(y_test,t_test)\n",
        "\n",
        "print('test loss: {:.4f}'.format(loss_test.array.get()))\n",
        "print('test accuracy: {:.4f}'.format(acc_test.array.get()))"
      ],
      "execution_count": 10,
      "outputs": [
        {
          "output_type": "stream",
          "text": [
            "epoch: 0, iteration: 20, loss(train): 0.8206, loss(valid): 0.6395,acc(train): 0.5000, acc(valid): 0.6875\n",
            "epoch: 1, iteration: 38, loss(train): 0.5983, loss(valid): 0.4052,acc(train): 0.5000, acc(valid): 0.9062\n",
            "epoch: 2, iteration: 56, loss(train): 0.4452, loss(valid): 0.3281,acc(train): 1.0000, acc(valid): 0.9375\n",
            "epoch: 3, iteration: 74, loss(train): 0.5320, loss(valid): 0.5086,acc(train): 0.5000, acc(valid): 0.7188\n",
            "epoch: 4, iteration: 93, loss(train): 0.2967, loss(valid): 0.2734,acc(train): 1.0000, acc(valid): 0.9688\n",
            "epoch: 5, iteration: 111, loss(train): 0.0362, loss(valid): 0.4637,acc(train): 1.0000, acc(valid): 0.7188\n",
            "epoch: 6, iteration: 129, loss(train): 0.2118, loss(valid): 0.3252,acc(train): 1.0000, acc(valid): 0.8125\n",
            "epoch: 7, iteration: 147, loss(train): 0.3074, loss(valid): 0.2229,acc(train): 1.0000, acc(valid): 0.9688\n",
            "epoch: 8, iteration: 166, loss(train): 0.1084, loss(valid): 0.2231,acc(train): 1.0000, acc(valid): 0.9375\n",
            "epoch: 9, iteration: 184, loss(train): 0.1681, loss(valid): 0.1874,acc(train): 1.0000, acc(valid): 0.9688\n",
            "epoch: 10, iteration: 202, loss(train): 0.0978, loss(valid): 0.1794,acc(train): 1.0000, acc(valid): 0.9688\n",
            "epoch: 11, iteration: 220, loss(train): 0.1761, loss(valid): 0.1799,acc(train): 1.0000, acc(valid): 0.9688\n",
            "epoch: 12, iteration: 239, loss(train): 0.1061, loss(valid): 0.2253,acc(train): 1.0000, acc(valid): 0.9062\n",
            "epoch: 13, iteration: 257, loss(train): 0.1139, loss(valid): 0.1855,acc(train): 1.0000, acc(valid): 0.9375\n",
            "epoch: 14, iteration: 275, loss(train): 0.3188, loss(valid): 0.1501,acc(train): 0.7500, acc(valid): 0.9688\n",
            "epoch: 15, iteration: 293, loss(train): 0.2507, loss(valid): 0.1418,acc(train): 0.7500, acc(valid): 0.9688\n",
            "epoch: 16, iteration: 312, loss(train): 0.0464, loss(valid): 0.1356,acc(train): 1.0000, acc(valid): 0.9688\n",
            "epoch: 17, iteration: 330, loss(train): 0.1214, loss(valid): 0.1588,acc(train): 1.0000, acc(valid): 0.9062\n",
            "epoch: 18, iteration: 348, loss(train): 0.1965, loss(valid): 0.1347,acc(train): 1.0000, acc(valid): 0.9688\n",
            "epoch: 19, iteration: 366, loss(train): 0.3922, loss(valid): 0.1433,acc(train): 0.7500, acc(valid): 0.9062\n",
            "epoch: 20, iteration: 385, loss(train): 0.4562, loss(valid): 0.1221,acc(train): 0.7500, acc(valid): 0.9688\n",
            "epoch: 21, iteration: 403, loss(train): 0.5613, loss(valid): 0.4577,acc(train): 0.5000, acc(valid): 0.8125\n",
            "epoch: 22, iteration: 421, loss(train): 0.1815, loss(valid): 0.1298,acc(train): 0.7500, acc(valid): 0.9688\n",
            "epoch: 23, iteration: 439, loss(train): 0.2315, loss(valid): 0.1223,acc(train): 0.7500, acc(valid): 0.9688\n",
            "epoch: 24, iteration: 458, loss(train): 0.2266, loss(valid): 0.1483,acc(train): 1.0000, acc(valid): 0.9062\n",
            "epoch: 25, iteration: 476, loss(train): 0.4845, loss(valid): 0.1476,acc(train): 0.7500, acc(valid): 0.9062\n",
            "epoch: 26, iteration: 494, loss(train): 0.6558, loss(valid): 0.1440,acc(train): 0.7500, acc(valid): 0.9062\n",
            "epoch: 27, iteration: 512, loss(train): 0.0317, loss(valid): 0.1789,acc(train): 1.0000, acc(valid): 0.9062\n",
            "epoch: 28, iteration: 531, loss(train): 0.0608, loss(valid): 0.1141,acc(train): 1.0000, acc(valid): 0.9688\n",
            "epoch: 29, iteration: 549, loss(train): 0.0063, loss(valid): 0.2098,acc(train): 1.0000, acc(valid): 0.9375\n",
            "epoch: 30, iteration: 567, loss(train): 0.2478, loss(valid): 0.1125,acc(train): 0.7500, acc(valid): 0.9688\n",
            "epoch: 31, iteration: 585, loss(train): 0.0115, loss(valid): 0.1093,acc(train): 1.0000, acc(valid): 0.9688\n",
            "epoch: 32, iteration: 604, loss(train): 0.0091, loss(valid): 0.1075,acc(train): 1.0000, acc(valid): 0.9688\n",
            "epoch: 33, iteration: 622, loss(train): 0.1021, loss(valid): 0.1145,acc(train): 1.0000, acc(valid): 0.9688\n",
            "epoch: 34, iteration: 640, loss(train): 0.0845, loss(valid): 0.1176,acc(train): 1.0000, acc(valid): 0.9375\n",
            "epoch: 35, iteration: 658, loss(train): 0.0277, loss(valid): 0.1845,acc(train): 1.0000, acc(valid): 0.9375\n",
            "epoch: 36, iteration: 677, loss(train): 0.0264, loss(valid): 0.2782,acc(train): 1.0000, acc(valid): 0.9062\n",
            "epoch: 37, iteration: 695, loss(train): 0.0045, loss(valid): 0.2112,acc(train): 1.0000, acc(valid): 0.9375\n",
            "epoch: 38, iteration: 713, loss(train): 0.0375, loss(valid): 0.1591,acc(train): 1.0000, acc(valid): 0.9688\n",
            "epoch: 39, iteration: 731, loss(train): 0.0325, loss(valid): 0.1685,acc(train): 1.0000, acc(valid): 0.9688\n",
            "epoch: 40, iteration: 750, loss(train): 0.2510, loss(valid): 0.1014,acc(train): 0.7500, acc(valid): 0.9688\n",
            "epoch: 41, iteration: 768, loss(train): 0.0062, loss(valid): 0.1523,acc(train): 1.0000, acc(valid): 0.9688\n",
            "epoch: 42, iteration: 786, loss(train): 0.0307, loss(valid): 0.4551,acc(train): 1.0000, acc(valid): 0.8438\n",
            "epoch: 43, iteration: 804, loss(train): 0.6516, loss(valid): 0.2186,acc(train): 0.7500, acc(valid): 0.9375\n",
            "epoch: 44, iteration: 823, loss(train): 0.0299, loss(valid): 0.1282,acc(train): 1.0000, acc(valid): 0.9688\n",
            "epoch: 45, iteration: 841, loss(train): 0.0072, loss(valid): 0.1130,acc(train): 1.0000, acc(valid): 0.9688\n",
            "epoch: 46, iteration: 859, loss(train): 0.0036, loss(valid): 0.1750,acc(train): 1.0000, acc(valid): 0.9688\n",
            "epoch: 47, iteration: 877, loss(train): 0.0045, loss(valid): 0.3004,acc(train): 1.0000, acc(valid): 0.9062\n",
            "epoch: 48, iteration: 896, loss(train): 0.1573, loss(valid): 0.2566,acc(train): 1.0000, acc(valid): 0.9375\n",
            "epoch: 49, iteration: 914, loss(train): 1.4570, loss(valid): 0.8162,acc(train): 0.7500, acc(valid): 0.8125\n",
            "\n",
            "cost function:\n"
          ],
          "name": "stdout"
        },
        {
          "output_type": "display_data",
          "data": {
            "image/png": "[encoded data removed]",
            "text/plain": [
              "<Figure size 432x288 with 1 Axes>"
            ]
          },
          "metadata": {
            "tags": []
          }
        },
        {
          "output_type": "stream",
          "text": [
            "accuracy:\n"
          ],
          "name": "stdout"
        },
        {
          "output_type": "display_data",
          "data": {
            "image/png": "[encoded data removed]",
            "text/plain": [
              "<Figure size 432x288 with 1 Axes>"
            ]
          },
          "metadata": {
            "tags": []
          }
        },
        {
          "output_type": "stream",
          "text": [
            "test loss: 0.6968\n",
            "test accuracy: 0.8222\n",
            "l2/b :\t (100,)\n",
            "l2/W :\t (100, 100)\n",
            "l3/b :\t (3,)\n",
            "l3/W :\t (3, 100)\n",
            "l1/b :\t (100,)\n",
            "l1/W :\t (100, 4)\n"
          ],
          "name": "stdout"
        }
      ]
    },
    {
      "cell_type": "code",
      "metadata": {
        "id": "VA69-13l8yTq",
        "colab_type": "code",
        "colab": {
          "base_uri": "https://localhost:8080/",
          "height": 119
        },
        "outputId": "00425a9d-2eab-499e-d518-0b6328a713ca"
      },
      "source": [
        "import numpy as np\n",
        "\n",
        "params=np.load('net.npz')\n",
        "\n",
        "for key,param in params.items():\n",
        "  print(key,':\\t',param.shape)"
      ],
      "execution_count": 11,
      "outputs": [
        {
          "output_type": "stream",
          "text": [
            "l2/b :\t (100,)\n",
            "l2/W :\t (100, 100)\n",
            "l3/b :\t (3,)\n",
            "l3/W :\t (3, 100)\n",
            "l1/b :\t (100,)\n",
            "l1/W :\t (100, 4)\n"
          ],
          "name": "stdout"
        }
      ]
    }
  ]
}