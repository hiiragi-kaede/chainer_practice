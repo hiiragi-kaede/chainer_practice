{
  "nbformat": 4,
  "nbformat_minor": 0,
  "metadata": {
    "colab": {
      "name": "Untitled",
      "provenance": [],
      "collapsed_sections": [],
      "authorship_tag": "ABX9TyO8fXDiwGhJpC4YCjlyIpK9",
      "include_colab_link": true
    },
    "kernelspec": {
      "name": "python3",
      "display_name": "Python 3"
    },
    "accelerator": "GPU"
  },
  "cells": [
    {
      "cell_type": "markdown",
      "metadata": {
        "id": "view-in-github",
        "colab_type": "text"
      },
      "source": [
        "<a href=\"https://colab.research.google.com/github/hiiragi-kaede/chainer_practice/blob/master/practice.ipynb\" target=\"_parent\"><img src=\"https://colab.research.google.com/assets/colab-badge.svg\" alt=\"Open In Colab\"/></a>"
      ]
    },
    {
      "cell_type": "code",
      "metadata": {
        "id": "udtB2wFj8UDy",
        "colab_type": "code",
        "colab": {
          "base_uri": "https://localhost:8080/",
          "height": 255
        },
        "outputId": "e6381a9e-ba07-4ad7-f9c4-cfd5dd63a363"
      },
      "source": [
        "import numpy as np\n",
        "import cupy as cp\n",
        "import time\n",
        "import tabulate\n",
        "\n",
        "def get_w_np(x,t):\n",
        "  xx=np.dot(x.T,x)\n",
        "  xx_inv=np.linalg.inv(xx)\n",
        "  xt=np.dot(x.T,t)\n",
        "  w=np.dot(xx_inv,xt)\n",
        "  return w\n",
        "\n",
        "def get_w_cp(x,t):\n",
        "  xx=cp.dot(x.T,x)\n",
        "  xx_inv=cp.linalg.inv(xx)\n",
        "  xt=cp.dot(x.T,t)\n",
        "  w=cp.dot(xx_inv,xt)\n",
        "  return w\n",
        "\n",
        "times_cpu=[]\n",
        "for N in [10,100,1000,10000]:\n",
        "  np.random.seed(0)\n",
        "  x=np.random.rand(N,N)\n",
        "  t=np.random.rand(N,1)\n",
        "\n",
        "  t_start=time.time()\n",
        "\n",
        "  w=get_w_np(x,t)\n",
        "\n",
        "  t_end=time.time()\n",
        "  elapsed_time=t_end-t_start\n",
        "  print('N={:>5}:{:>8.5f} sec'.format(N,elapsed_time))\n",
        "  times_cpu.append(elapsed_time)\n",
        "\n",
        "times_gpu=[]\n",
        "for N in [10,100,1000,10000]:\n",
        "  cp.random.seed(0)\n",
        "  x=cp.random.rand(N,N)\n",
        "  t=cp.random.rand(N,1)\n",
        "\n",
        "  cp.cuda.Stream.null.synchronize()\n",
        "  t_start=time.time()\n",
        "\n",
        "  w=get_w_cp(x,t)\n",
        "\n",
        "  cp.cuda.Stream.null.synchronize()\n",
        "  t_end=time.time()\n",
        "  elapsed_time=t_end-t_start\n",
        "  print('N={:>5}:{:>8.5f} sec'.format(N,elapsed_time))\n",
        "  times_gpu.append(elapsed_time)\n",
        "\n",
        "N=[10,100,1000,10000]\n",
        "times_cpu=np.asarray(times_cpu)\n",
        "times_gpu=np.asarray(times_gpu)\n",
        "ratio=['{:.2f} x'.format(r) for r in times_cpu/times_gpu]\n",
        "\n",
        "table=tabulate.tabulate(\n",
        "    zip(N,times_cpu,times_gpu,ratio),\n",
        "    headers=['N','Numpyでの実行時間(sec)','Cupyでの実行時間(sec)','高速化倍率']\n",
        ")\n",
        "print(table)"
      ],
      "execution_count": 5,
      "outputs": [
        {
          "output_type": "stream",
          "text": [
            "N=   10: 0.00033 sec\n",
            "N=  100: 0.00075 sec\n",
            "N= 1000: 0.12585 sec\n",
            "N=10000:90.99724 sec\n",
            "N=   10: 0.00056 sec\n",
            "N=  100: 0.00090 sec\n",
            "N= 1000: 0.01531 sec\n",
            "N=10000: 1.34605 sec\n",
            "    N    Numpyでの実行時間(sec)    Cupyでの実行時間(sec)  高速化倍率\n",
            "-----  ------------------------  -----------------------  ------------\n",
            "   10               0.000325918              0.000562906  0.58 x\n",
            "  100               0.000751019              0.000895023  0.84 x\n",
            " 1000               0.125846                 0.0153127    8.22 x\n",
            "10000              90.9972                   1.34605      67.60 x\n"
          ],
          "name": "stdout"
        }
      ]
    },
    {
      "cell_type": "code",
      "metadata": {
        "id": "Zl5MfgCJr06Q",
        "colab_type": "code",
        "outputId": "27d1e163-ed0c-4b1f-fd83-09c52605318c",
        "colab": {
          "base_uri": "https://localhost:8080/",
          "height": 68
        }
      },
      "source": [
        "from sklearn.datasets import load_boston\n",
        "from sklearn.model_selection import train_test_split\n",
        "from sklearn.linear_model import LinearRegression\n",
        "from sklearn.preprocessing import PowerTransformer\n",
        "from sklearn.pipeline import Pipeline\n",
        "\n",
        "dataset=load_boston()\n",
        "x=dataset.data\n",
        "t=dataset.target\n",
        "pipeline=Pipeline([\n",
        "  ('scaler',PowerTransformer()),\n",
        "  ('reg',LinearRegression())\n",
        "])\n",
        "x_train,x_test,t_train,t_test=train_test_split(x,t,test_size=0.3,random_state=0)\n",
        "\n",
        "pipeline.fit(x_train,t_train)\n",
        "pipeline.score(x_train,t_train)\n",
        "linear_result=pipeline.score(x_test,t_test)\n",
        "print(linear_result)"
      ],
      "execution_count": 0,
      "outputs": [
        {
          "output_type": "stream",
          "text": [
            "0.7002856551689581\n"
          ],
          "name": "stdout"
        },
        {
          "output_type": "stream",
          "text": [
            "/usr/local/lib/python3.6/dist-packages/sklearn/preprocessing/_data.py:2982: RuntimeWarning: divide by zero encountered in log\n",
            "  loglike = -n_samples / 2 * np.log(x_trans.var())\n"
          ],
          "name": "stderr"
        }
      ]
    },
    {
      "cell_type": "code",
      "metadata": {
        "id": "4HvuJf8DA-91",
        "colab_type": "code",
        "outputId": "cdc5b683-8d22-4d57-8d9c-6298528cae8a",
        "colab": {
          "base_uri": "https://localhost:8080/",
          "height": 34
        }
      },
      "source": [
        "num=[x for x in range(2,101)]\n",
        "isprime=[True for x in range(2,101)]\n",
        "for i in range(2,11):\n",
        "  id=i\n",
        "  while id<=100-i:\n",
        "    id+=i\n",
        "    isprime[id-2]=False\n",
        "  \n",
        "res=[x for x in num if isprime[x-2]]\n",
        "print(res)"
      ],
      "execution_count": 0,
      "outputs": [
        {
          "output_type": "stream",
          "text": [
            "[2, 3, 5, 7, 11, 13, 17, 19, 23, 29, 31, 37, 41, 43, 47, 53, 59, 61, 67, 71, 73, 79, 83, 89, 97]\n"
          ],
          "name": "stdout"
        }
      ]
    },
    {
      "cell_type": "code",
      "metadata": {
        "id": "uWvi7sZq99fj",
        "colab_type": "code",
        "outputId": "a48fb8f9-49b7-4b36-fb9c-3a58fb3ed944",
        "colab": {
          "base_uri": "https://localhost:8080/",
          "height": 85
        }
      },
      "source": [
        "def f(a):\n",
        "  a=[6,7,8]\n",
        "  print(id(a))\n",
        "\n",
        "def g(a):\n",
        "  a.append(1)\n",
        "\n",
        "def func():\n",
        "  a0=[1,2,3]\n",
        "  print(id(a0))\n",
        "  f(a0)\n",
        "  \n",
        "  print(a0)\n",
        "\n",
        "  a1=[1,2,3]\n",
        "  g(a1)\n",
        "  print(a1)\n",
        "\n",
        "func()"
      ],
      "execution_count": 0,
      "outputs": [
        {
          "output_type": "stream",
          "text": [
            "139656822769288\n",
            "139656822786632\n",
            "[1, 2, 3]\n",
            "[1, 2, 3, 1]\n"
          ],
          "name": "stdout"
        }
      ]
    },
    {
      "cell_type": "code",
      "metadata": {
        "id": "F1nbbLFh5r4l",
        "colab_type": "code",
        "outputId": "28474456-8a0f-4360-ae97-73b923d44395",
        "colab": {
          "base_uri": "https://localhost:8080/",
          "height": 102
        }
      },
      "source": [
        "class DataManager:\n",
        "  def __init__(self,x,y,z):\n",
        "    self.x=x\n",
        "    self.y=y\n",
        "    self.z=z\n",
        "  \n",
        "  def add_x(self,delta):\n",
        "    self.x+=delta\n",
        "  \n",
        "  def add_y(self,delta):\n",
        "    self.y+=delta\n",
        "  \n",
        "  def add_z(self,delta):\n",
        "    self.z+=delta\n",
        "  \n",
        "  def sum(self):\n",
        "    return self.x+self.y+self.z\n",
        "\n",
        "data=DataManager(2,3,5)\n",
        "print(data.sum())\n",
        "data.add_x(4)\n",
        "print(data.sum())\n",
        "data.add_y(0)\n",
        "print(data.sum())\n",
        "data.add_z(-9)\n",
        "print(data.sum())\n",
        "print('{},{},{}'.format(data.x,data.y,data.z))"
      ],
      "execution_count": 0,
      "outputs": [
        {
          "output_type": "stream",
          "text": [
            "10\n",
            "14\n",
            "14\n",
            "5\n",
            "6,3,-4\n"
          ],
          "name": "stdout"
        }
      ]
    }
  ]
}